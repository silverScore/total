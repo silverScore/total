{
 "cells": [
  {
   "attachments": {},
   "cell_type": "markdown",
   "metadata": {},
   "source": [
    "# silverScore - rawdata 전처리"
   ]
  },
  {
   "attachments": {},
   "cell_type": "markdown",
   "metadata": {},
   "source": [
    "## Basic Setting"
   ]
  },
  {
   "cell_type": "code",
   "execution_count": 3,
   "metadata": {},
   "outputs": [],
   "source": [
    "import pandas as pd\n",
    "base_bath = './rawdata/'"
   ]
  },
  {
   "attachments": {},
   "cell_type": "markdown",
   "metadata": {},
   "source": [
    "### 법정동코드목록\n",
    "- link : https://www.code.go.kr/stdcode/regCodeL.do\n",
    "- rawdata : 법정동코드 전체자료.txt"
   ]
  },
  {
   "attachments": {},
   "cell_type": "markdown",
   "metadata": {},
   "source": [
    "#### rawdata 데이터프레임화 하기"
   ]
  },
  {
   "attachments": {},
   "cell_type": "markdown",
   "metadata": {},
   "source": [
    "데이터를 열어보니까 'euc-kr'로 인코딩이 되어있고 형식은 아래와 같은 것을 확인함.<br>\n",
    "\n",
    "법정동코드, 법정동명, 폐지여부<br>\n",
    "1100000000, 서울특별시, 존재<br>\n",
    "1111000000, 서울특별시 종로구, 존재<br>\n",
    "1111010100, 서울특별시 종로구 청운동, 존재<br>\n",
    "...<br>"
   ]
  },
  {
   "cell_type": "code",
   "execution_count": 4,
   "metadata": {},
   "outputs": [
    {
     "data": {
      "text/html": [
       "<div>\n",
       "<style scoped>\n",
       "    .dataframe tbody tr th:only-of-type {\n",
       "        vertical-align: middle;\n",
       "    }\n",
       "\n",
       "    .dataframe tbody tr th {\n",
       "        vertical-align: top;\n",
       "    }\n",
       "\n",
       "    .dataframe thead th {\n",
       "        text-align: right;\n",
       "    }\n",
       "</style>\n",
       "<table border=\"1\" class=\"dataframe\">\n",
       "  <thead>\n",
       "    <tr style=\"text-align: right;\">\n",
       "      <th></th>\n",
       "      <th>법정동코드, 법정동명, 폐지여부</th>\n",
       "    </tr>\n",
       "  </thead>\n",
       "  <tbody>\n",
       "    <tr>\n",
       "      <th>0</th>\n",
       "      <td>1100000000, 서울특별시, 존재</td>\n",
       "    </tr>\n",
       "    <tr>\n",
       "      <th>1</th>\n",
       "      <td>1111000000, 서울특별시 종로구, 존재</td>\n",
       "    </tr>\n",
       "    <tr>\n",
       "      <th>2</th>\n",
       "      <td>1111010100, 서울특별시 종로구 청운동, 존재</td>\n",
       "    </tr>\n",
       "    <tr>\n",
       "      <th>3</th>\n",
       "      <td>1111010200, 서울특별시 종로구 신교동, 존재</td>\n",
       "    </tr>\n",
       "    <tr>\n",
       "      <th>4</th>\n",
       "      <td>1111010300, 서울특별시 종로구 궁정동, 존재</td>\n",
       "    </tr>\n",
       "    <tr>\n",
       "      <th>...</th>\n",
       "      <td>...</td>\n",
       "    </tr>\n",
       "    <tr>\n",
       "      <th>46335</th>\n",
       "      <td>5013032022\\t제주특별자치도 서귀포시 표선면 하천리\\t존재</td>\n",
       "    </tr>\n",
       "    <tr>\n",
       "      <th>46336</th>\n",
       "      <td>5013032023\\t제주특별자치도 서귀포시 표선면 성읍리\\t존재</td>\n",
       "    </tr>\n",
       "    <tr>\n",
       "      <th>46337</th>\n",
       "      <td>5013032024\\t제주특별자치도 서귀포시 표선면 가시리\\t존재</td>\n",
       "    </tr>\n",
       "    <tr>\n",
       "      <th>46338</th>\n",
       "      <td>5013032025\\t제주특별자치도 서귀포시 표선면 세화리\\t존재</td>\n",
       "    </tr>\n",
       "    <tr>\n",
       "      <th>46339</th>\n",
       "      <td>5013032026\\t제주특별자치도 서귀포시 표선면 토산리\\t존재</td>\n",
       "    </tr>\n",
       "  </tbody>\n",
       "</table>\n",
       "<p>46340 rows × 1 columns</p>\n",
       "</div>"
      ],
      "text/plain": [
       "                          법정동코드, 법정동명, 폐지여부\n",
       "0                     1100000000, 서울특별시, 존재\n",
       "1                 1111000000, 서울특별시 종로구, 존재\n",
       "2             1111010100, 서울특별시 종로구 청운동, 존재\n",
       "3             1111010200, 서울특별시 종로구 신교동, 존재\n",
       "4             1111010300, 서울특별시 종로구 궁정동, 존재\n",
       "...                                     ...\n",
       "46335  5013032022\\t제주특별자치도 서귀포시 표선면 하천리\\t존재\n",
       "46336  5013032023\\t제주특별자치도 서귀포시 표선면 성읍리\\t존재\n",
       "46337  5013032024\\t제주특별자치도 서귀포시 표선면 가시리\\t존재\n",
       "46338  5013032025\\t제주특별자치도 서귀포시 표선면 세화리\\t존재\n",
       "46339  5013032026\\t제주특별자치도 서귀포시 표선면 토산리\\t존재\n",
       "\n",
       "[46340 rows x 1 columns]"
      ]
     },
     "execution_count": 4,
     "metadata": {},
     "output_type": "execute_result"
    }
   ],
   "source": [
    "address_txt = pd.read_csv(base_bath+'법정동코드 전체자료.txt', sep ='/t', encoding='euc-kr',engine='python')\n",
    "address_txt"
   ]
  },
  {
   "attachments": {},
   "cell_type": "markdown",
   "metadata": {},
   "source": [
    "위를 확인해 보면 구분자가 , 일 때도 있고 \\t일 때도 있어서 \\t를 ,로 바꿔보기로 함."
   ]
  },
  {
   "cell_type": "code",
   "execution_count": 3,
   "metadata": {},
   "outputs": [
    {
     "data": {
      "text/plain": [
       "0                       1100000000, 서울특별시, 존재\n",
       "1                   1111000000, 서울특별시 종로구, 존재\n",
       "2               1111010100, 서울특별시 종로구 청운동, 존재\n",
       "3               1111010200, 서울특별시 종로구 신교동, 존재\n",
       "4               1111010300, 서울특별시 종로구 궁정동, 존재\n",
       "                         ...                 \n",
       "46335    5013032022, 제주특별자치도 서귀포시 표선면 하천리, 존재\n",
       "46336    5013032023, 제주특별자치도 서귀포시 표선면 성읍리, 존재\n",
       "46337    5013032024, 제주특별자치도 서귀포시 표선면 가시리, 존재\n",
       "46338    5013032025, 제주특별자치도 서귀포시 표선면 세화리, 존재\n",
       "46339    5013032026, 제주특별자치도 서귀포시 표선면 토산리, 존재\n",
       "Name: 법정동코드, 법정동명, 폐지여부, Length: 46340, dtype: object"
      ]
     },
     "execution_count": 3,
     "metadata": {},
     "output_type": "execute_result"
    }
   ],
   "source": [
    "address_txt.iloc[:,0].str.replace('\\t',', ')"
   ]
  },
  {
   "cell_type": "code",
   "execution_count": 4,
   "metadata": {},
   "outputs": [
    {
     "data": {
      "text/html": [
       "<div>\n",
       "<style scoped>\n",
       "    .dataframe tbody tr th:only-of-type {\n",
       "        vertical-align: middle;\n",
       "    }\n",
       "\n",
       "    .dataframe tbody tr th {\n",
       "        vertical-align: top;\n",
       "    }\n",
       "\n",
       "    .dataframe thead th {\n",
       "        text-align: right;\n",
       "    }\n",
       "</style>\n",
       "<table border=\"1\" class=\"dataframe\">\n",
       "  <thead>\n",
       "    <tr style=\"text-align: right;\">\n",
       "      <th></th>\n",
       "      <th>법정동코드, 법정동명, 폐지여부</th>\n",
       "    </tr>\n",
       "  </thead>\n",
       "  <tbody>\n",
       "    <tr>\n",
       "      <th>0</th>\n",
       "      <td>1100000000, 서울특별시, 존재</td>\n",
       "    </tr>\n",
       "    <tr>\n",
       "      <th>1</th>\n",
       "      <td>1111000000, 서울특별시 종로구, 존재</td>\n",
       "    </tr>\n",
       "    <tr>\n",
       "      <th>2</th>\n",
       "      <td>1111010100, 서울특별시 종로구 청운동, 존재</td>\n",
       "    </tr>\n",
       "    <tr>\n",
       "      <th>3</th>\n",
       "      <td>1111010200, 서울특별시 종로구 신교동, 존재</td>\n",
       "    </tr>\n",
       "    <tr>\n",
       "      <th>4</th>\n",
       "      <td>1111010300, 서울특별시 종로구 궁정동, 존재</td>\n",
       "    </tr>\n",
       "    <tr>\n",
       "      <th>...</th>\n",
       "      <td>...</td>\n",
       "    </tr>\n",
       "    <tr>\n",
       "      <th>46335</th>\n",
       "      <td>5013032022, 제주특별자치도 서귀포시 표선면 하천리, 존재</td>\n",
       "    </tr>\n",
       "    <tr>\n",
       "      <th>46336</th>\n",
       "      <td>5013032023, 제주특별자치도 서귀포시 표선면 성읍리, 존재</td>\n",
       "    </tr>\n",
       "    <tr>\n",
       "      <th>46337</th>\n",
       "      <td>5013032024, 제주특별자치도 서귀포시 표선면 가시리, 존재</td>\n",
       "    </tr>\n",
       "    <tr>\n",
       "      <th>46338</th>\n",
       "      <td>5013032025, 제주특별자치도 서귀포시 표선면 세화리, 존재</td>\n",
       "    </tr>\n",
       "    <tr>\n",
       "      <th>46339</th>\n",
       "      <td>5013032026, 제주특별자치도 서귀포시 표선면 토산리, 존재</td>\n",
       "    </tr>\n",
       "  </tbody>\n",
       "</table>\n",
       "<p>46340 rows × 1 columns</p>\n",
       "</div>"
      ],
      "text/plain": [
       "                          법정동코드, 법정동명, 폐지여부\n",
       "0                     1100000000, 서울특별시, 존재\n",
       "1                 1111000000, 서울특별시 종로구, 존재\n",
       "2             1111010100, 서울특별시 종로구 청운동, 존재\n",
       "3             1111010200, 서울특별시 종로구 신교동, 존재\n",
       "4             1111010300, 서울특별시 종로구 궁정동, 존재\n",
       "...                                     ...\n",
       "46335  5013032022, 제주특별자치도 서귀포시 표선면 하천리, 존재\n",
       "46336  5013032023, 제주특별자치도 서귀포시 표선면 성읍리, 존재\n",
       "46337  5013032024, 제주특별자치도 서귀포시 표선면 가시리, 존재\n",
       "46338  5013032025, 제주특별자치도 서귀포시 표선면 세화리, 존재\n",
       "46339  5013032026, 제주특별자치도 서귀포시 표선면 토산리, 존재\n",
       "\n",
       "[46340 rows x 1 columns]"
      ]
     },
     "execution_count": 4,
     "metadata": {},
     "output_type": "execute_result"
    }
   ],
   "source": [
    "address_txt.iloc[:,0] = address_txt.iloc[:,0].str.replace('\\t',', ')\n",
    "# address_txt.iloc[:,0] = address_txt.iloc[:,0].str.replace(', ',',')\n",
    "address_txt.columns = ['법정동코드, 법정동명, 폐지여부',]\n",
    "address_txt"
   ]
  },
  {
   "cell_type": "code",
   "execution_count": 5,
   "metadata": {},
   "outputs": [],
   "source": [
    "# 이걸 저장하고 csv로 다시 열기\n",
    "address_txt.to_csv(base_bath+'법정동코드 전체자료.csv', sep=',', encoding='utf-8', index=False)"
   ]
  },
  {
   "attachments": {},
   "cell_type": "markdown",
   "metadata": {},
   "source": [
    "##### csv 로 다시 load 한 df 정제하기"
   ]
  },
  {
   "cell_type": "code",
   "execution_count": 6,
   "metadata": {},
   "outputs": [
    {
     "name": "stdout",
     "output_type": "stream",
     "text": [
      "<class 'pandas.core.frame.DataFrame'>\n",
      "RangeIndex: 46340 entries, 0 to 46339\n",
      "Data columns (total 3 columns):\n",
      " #   Column  Non-Null Count  Dtype \n",
      "---  ------  --------------  ----- \n",
      " 0   \"법정동코드  46340 non-null  object\n",
      " 1   법정동명    46340 non-null  object\n",
      " 2   폐지여부\"   46340 non-null  object\n",
      "dtypes: object(3)\n",
      "memory usage: 1.1+ MB\n"
     ]
    }
   ],
   "source": [
    "address_df = pd.read_csv(base_bath+'법정동코드 전체자료.csv', sep=', ', encoding='utf-8', engine='python')\n",
    "address_df.info() # 46340 개 확인"
   ]
  },
  {
   "cell_type": "code",
   "execution_count": 7,
   "metadata": {},
   "outputs": [
    {
     "data": {
      "text/html": [
       "<div>\n",
       "<style scoped>\n",
       "    .dataframe tbody tr th:only-of-type {\n",
       "        vertical-align: middle;\n",
       "    }\n",
       "\n",
       "    .dataframe tbody tr th {\n",
       "        vertical-align: top;\n",
       "    }\n",
       "\n",
       "    .dataframe thead th {\n",
       "        text-align: right;\n",
       "    }\n",
       "</style>\n",
       "<table border=\"1\" class=\"dataframe\">\n",
       "  <thead>\n",
       "    <tr style=\"text-align: right;\">\n",
       "      <th></th>\n",
       "      <th>\"법정동코드</th>\n",
       "      <th>법정동명</th>\n",
       "      <th>폐지여부\"</th>\n",
       "    </tr>\n",
       "  </thead>\n",
       "  <tbody>\n",
       "    <tr>\n",
       "      <th>0</th>\n",
       "      <td>\"1100000000</td>\n",
       "      <td>서울특별시</td>\n",
       "      <td>존재\"</td>\n",
       "    </tr>\n",
       "    <tr>\n",
       "      <th>1</th>\n",
       "      <td>\"1111000000</td>\n",
       "      <td>서울특별시 종로구</td>\n",
       "      <td>존재\"</td>\n",
       "    </tr>\n",
       "  </tbody>\n",
       "</table>\n",
       "</div>"
      ],
      "text/plain": [
       "        \"법정동코드       법정동명 폐지여부\"\n",
       "0  \"1100000000      서울특별시   존재\"\n",
       "1  \"1111000000  서울특별시 종로구   존재\""
      ]
     },
     "execution_count": 7,
     "metadata": {},
     "output_type": "execute_result"
    }
   ],
   "source": [
    "address_df.head(2)"
   ]
  },
  {
   "cell_type": "code",
   "execution_count": 8,
   "metadata": {},
   "outputs": [
    {
     "name": "stdout",
     "output_type": "stream",
     "text": [
      "Index(['\"법정동코드', '법정동명', '폐지여부\"'], dtype='object')\n"
     ]
    },
    {
     "data": {
      "text/html": [
       "<div>\n",
       "<style scoped>\n",
       "    .dataframe tbody tr th:only-of-type {\n",
       "        vertical-align: middle;\n",
       "    }\n",
       "\n",
       "    .dataframe tbody tr th {\n",
       "        vertical-align: top;\n",
       "    }\n",
       "\n",
       "    .dataframe thead th {\n",
       "        text-align: right;\n",
       "    }\n",
       "</style>\n",
       "<table border=\"1\" class=\"dataframe\">\n",
       "  <thead>\n",
       "    <tr style=\"text-align: right;\">\n",
       "      <th></th>\n",
       "      <th>법정동코드</th>\n",
       "      <th>법정동명</th>\n",
       "      <th>폐지여부</th>\n",
       "    </tr>\n",
       "  </thead>\n",
       "  <tbody>\n",
       "    <tr>\n",
       "      <th>46338</th>\n",
       "      <td>\"5013032025</td>\n",
       "      <td>제주특별자치도 서귀포시 표선면 세화리</td>\n",
       "      <td>존재\"</td>\n",
       "    </tr>\n",
       "    <tr>\n",
       "      <th>46339</th>\n",
       "      <td>\"5013032026</td>\n",
       "      <td>제주특별자치도 서귀포시 표선면 토산리</td>\n",
       "      <td>존재\"</td>\n",
       "    </tr>\n",
       "  </tbody>\n",
       "</table>\n",
       "</div>"
      ],
      "text/plain": [
       "             법정동코드                  법정동명 폐지여부\n",
       "46338  \"5013032025  제주특별자치도 서귀포시 표선면 세화리  존재\"\n",
       "46339  \"5013032026  제주특별자치도 서귀포시 표선면 토산리  존재\""
      ]
     },
     "execution_count": 8,
     "metadata": {},
     "output_type": "execute_result"
    }
   ],
   "source": [
    "print(address_df.columns)  # Index(['\"법정동코드', '법정동명', '폐지여부\"'], dtype='object')\n",
    "address_df.columns = ['법정동코드', '법정동명', '폐지여부']\n",
    "address_df.tail(2)"
   ]
  },
  {
   "cell_type": "code",
   "execution_count": 9,
   "metadata": {},
   "outputs": [],
   "source": [
    "address_df.iloc[:,0] = address_df.iloc[:,0].str.replace('\"','')\n",
    "address_df.iloc[:,2] = address_df.iloc[:,2].str.replace('\"','')\n",
    "address_df.to_csv(base_bath+'법정동코드 전체자료.csv', encoding='utf-8') # 1차 저장"
   ]
  },
  {
   "attachments": {},
   "cell_type": "markdown",
   "metadata": {},
   "source": [
    "##### address_df 로 정제하기"
   ]
  },
  {
   "cell_type": "code",
   "execution_count": 10,
   "metadata": {},
   "outputs": [
    {
     "data": {
      "text/html": [
       "<div>\n",
       "<style scoped>\n",
       "    .dataframe tbody tr th:only-of-type {\n",
       "        vertical-align: middle;\n",
       "    }\n",
       "\n",
       "    .dataframe tbody tr th {\n",
       "        vertical-align: top;\n",
       "    }\n",
       "\n",
       "    .dataframe thead th {\n",
       "        text-align: right;\n",
       "    }\n",
       "</style>\n",
       "<table border=\"1\" class=\"dataframe\">\n",
       "  <thead>\n",
       "    <tr style=\"text-align: right;\">\n",
       "      <th></th>\n",
       "      <th>법정동코드</th>\n",
       "      <th>법정동명</th>\n",
       "      <th>폐지여부</th>\n",
       "    </tr>\n",
       "  </thead>\n",
       "  <tbody>\n",
       "    <tr>\n",
       "      <th>0</th>\n",
       "      <td>1100000000</td>\n",
       "      <td>서울특별시</td>\n",
       "      <td>존재</td>\n",
       "    </tr>\n",
       "    <tr>\n",
       "      <th>1</th>\n",
       "      <td>1111000000</td>\n",
       "      <td>서울특별시 종로구</td>\n",
       "      <td>존재</td>\n",
       "    </tr>\n",
       "    <tr>\n",
       "      <th>2</th>\n",
       "      <td>1111010100</td>\n",
       "      <td>서울특별시 종로구 청운동</td>\n",
       "      <td>존재</td>\n",
       "    </tr>\n",
       "    <tr>\n",
       "      <th>3</th>\n",
       "      <td>1111010200</td>\n",
       "      <td>서울특별시 종로구 신교동</td>\n",
       "      <td>존재</td>\n",
       "    </tr>\n",
       "    <tr>\n",
       "      <th>4</th>\n",
       "      <td>1111010300</td>\n",
       "      <td>서울특별시 종로구 궁정동</td>\n",
       "      <td>존재</td>\n",
       "    </tr>\n",
       "    <tr>\n",
       "      <th>...</th>\n",
       "      <td>...</td>\n",
       "      <td>...</td>\n",
       "      <td>...</td>\n",
       "    </tr>\n",
       "    <tr>\n",
       "      <th>46335</th>\n",
       "      <td>5013032022</td>\n",
       "      <td>제주특별자치도 서귀포시 표선면 하천리</td>\n",
       "      <td>존재</td>\n",
       "    </tr>\n",
       "    <tr>\n",
       "      <th>46336</th>\n",
       "      <td>5013032023</td>\n",
       "      <td>제주특별자치도 서귀포시 표선면 성읍리</td>\n",
       "      <td>존재</td>\n",
       "    </tr>\n",
       "    <tr>\n",
       "      <th>46337</th>\n",
       "      <td>5013032024</td>\n",
       "      <td>제주특별자치도 서귀포시 표선면 가시리</td>\n",
       "      <td>존재</td>\n",
       "    </tr>\n",
       "    <tr>\n",
       "      <th>46338</th>\n",
       "      <td>5013032025</td>\n",
       "      <td>제주특별자치도 서귀포시 표선면 세화리</td>\n",
       "      <td>존재</td>\n",
       "    </tr>\n",
       "    <tr>\n",
       "      <th>46339</th>\n",
       "      <td>5013032026</td>\n",
       "      <td>제주특별자치도 서귀포시 표선면 토산리</td>\n",
       "      <td>존재</td>\n",
       "    </tr>\n",
       "  </tbody>\n",
       "</table>\n",
       "<p>46340 rows × 3 columns</p>\n",
       "</div>"
      ],
      "text/plain": [
       "            법정동코드                  법정동명 폐지여부\n",
       "0      1100000000                 서울특별시   존재\n",
       "1      1111000000             서울특별시 종로구   존재\n",
       "2      1111010100         서울특별시 종로구 청운동   존재\n",
       "3      1111010200         서울특별시 종로구 신교동   존재\n",
       "4      1111010300         서울특별시 종로구 궁정동   존재\n",
       "...           ...                   ...  ...\n",
       "46335  5013032022  제주특별자치도 서귀포시 표선면 하천리   존재\n",
       "46336  5013032023  제주특별자치도 서귀포시 표선면 성읍리   존재\n",
       "46337  5013032024  제주특별자치도 서귀포시 표선면 가시리   존재\n",
       "46338  5013032025  제주특별자치도 서귀포시 표선면 세화리   존재\n",
       "46339  5013032026  제주특별자치도 서귀포시 표선면 토산리   존재\n",
       "\n",
       "[46340 rows x 3 columns]"
      ]
     },
     "execution_count": 10,
     "metadata": {},
     "output_type": "execute_result"
    }
   ],
   "source": [
    "address_df"
   ]
  },
  {
   "cell_type": "code",
   "execution_count": 11,
   "metadata": {},
   "outputs": [
    {
     "name": "stdout",
     "output_type": "stream",
     "text": [
      "법정동코드 : 0\n",
      "법정동명 : 0\n",
      "폐지여부 : 0\n"
     ]
    }
   ],
   "source": [
    "print(f'{address_df.iloc[:,0].name} : {sum(address_df.iloc[:,0].isna())}') # 법정동코드의 NaN 즉 빈 값 갯수 확인\n",
    "print(f'{address_df.iloc[:,1].name} : {sum(address_df.iloc[:,1].isna())}') # 법정동명의 NaN 즉 빈 값 갯수 확인\n",
    "print(f'{address_df.iloc[:,2].name} : {sum(address_df.iloc[:,2].isna())}') # 폐지여부의 NaN 즉 빈 값 갯수 확인"
   ]
  },
  {
   "cell_type": "code",
   "execution_count": 12,
   "metadata": {},
   "outputs": [
    {
     "name": "stdout",
     "output_type": "stream",
     "text": [
      "Index(['법정동코드', '법정동명', '폐지여부'], dtype='object') 46340\n"
     ]
    },
    {
     "data": {
      "text/plain": [
       "폐지    25790\n",
       "존재    20550\n",
       "Name: 폐지여부, dtype: int64"
      ]
     },
     "execution_count": 12,
     "metadata": {},
     "output_type": "execute_result"
    }
   ],
   "source": [
    "print(address_df.columns, len(address_df))\n",
    "address_df['폐지여부'].value_counts()"
   ]
  },
  {
   "cell_type": "code",
   "execution_count": 14,
   "metadata": {},
   "outputs": [
    {
     "name": "stdout",
     "output_type": "stream",
     "text": [
      "<class 'pandas.core.frame.DataFrame'>\n",
      "RangeIndex: 20550 entries, 0 to 20549\n",
      "Data columns (total 3 columns):\n",
      " #   Column  Non-Null Count  Dtype \n",
      "---  ------  --------------  ----- \n",
      " 0   법정동코드   20550 non-null  object\n",
      " 1   법정동명    20550 non-null  object\n",
      " 2   폐지여부    20550 non-null  object\n",
      "dtypes: object(3)\n",
      "memory usage: 481.8+ KB\n"
     ]
    }
   ],
   "source": [
    "# 폐지된 건 사용하지 않고 존재하는 것만 사용하기 & 존재 column 없애기기\n",
    "address_df = address_df[address_df['폐지여부'] == '존재'].reset_index(drop=True)\n",
    "address_df.info() # 20550"
   ]
  },
  {
   "cell_type": "code",
   "execution_count": 16,
   "metadata": {},
   "outputs": [
    {
     "data": {
      "text/html": [
       "<div>\n",
       "<style scoped>\n",
       "    .dataframe tbody tr th:only-of-type {\n",
       "        vertical-align: middle;\n",
       "    }\n",
       "\n",
       "    .dataframe tbody tr th {\n",
       "        vertical-align: top;\n",
       "    }\n",
       "\n",
       "    .dataframe thead th {\n",
       "        text-align: right;\n",
       "    }\n",
       "</style>\n",
       "<table border=\"1\" class=\"dataframe\">\n",
       "  <thead>\n",
       "    <tr style=\"text-align: right;\">\n",
       "      <th></th>\n",
       "      <th>법정동코드</th>\n",
       "      <th>법정동명</th>\n",
       "      <th>폐지여부</th>\n",
       "    </tr>\n",
       "  </thead>\n",
       "  <tbody>\n",
       "  </tbody>\n",
       "</table>\n",
       "</div>"
      ],
      "text/plain": [
       "Empty DataFrame\n",
       "Columns: [법정동코드, 법정동명, 폐지여부]\n",
       "Index: []"
      ]
     },
     "execution_count": 16,
     "metadata": {},
     "output_type": "execute_result"
    }
   ],
   "source": [
    "address_df[address_df['폐지여부'] != '존재']"
   ]
  },
  {
   "attachments": {},
   "cell_type": "markdown",
   "metadata": {},
   "source": [
    "전부 '존재' 이므로 '폐지여부' column 제거"
   ]
  },
  {
   "cell_type": "code",
   "execution_count": 18,
   "metadata": {},
   "outputs": [
    {
     "data": {
      "text/html": [
       "<div>\n",
       "<style scoped>\n",
       "    .dataframe tbody tr th:only-of-type {\n",
       "        vertical-align: middle;\n",
       "    }\n",
       "\n",
       "    .dataframe tbody tr th {\n",
       "        vertical-align: top;\n",
       "    }\n",
       "\n",
       "    .dataframe thead th {\n",
       "        text-align: right;\n",
       "    }\n",
       "</style>\n",
       "<table border=\"1\" class=\"dataframe\">\n",
       "  <thead>\n",
       "    <tr style=\"text-align: right;\">\n",
       "      <th></th>\n",
       "      <th>법정동코드</th>\n",
       "      <th>법정동명</th>\n",
       "    </tr>\n",
       "  </thead>\n",
       "  <tbody>\n",
       "    <tr>\n",
       "      <th>0</th>\n",
       "      <td>1100000000</td>\n",
       "      <td>서울특별시</td>\n",
       "    </tr>\n",
       "    <tr>\n",
       "      <th>1</th>\n",
       "      <td>1111000000</td>\n",
       "      <td>서울특별시 종로구</td>\n",
       "    </tr>\n",
       "  </tbody>\n",
       "</table>\n",
       "</div>"
      ],
      "text/plain": [
       "        법정동코드       법정동명\n",
       "0  1100000000      서울특별시\n",
       "1  1111000000  서울특별시 종로구"
      ]
     },
     "execution_count": 18,
     "metadata": {},
     "output_type": "execute_result"
    }
   ],
   "source": [
    "address_df = address_df.iloc[:,:2]\n",
    "address_df.head(2)"
   ]
  },
  {
   "attachments": {},
   "cell_type": "markdown",
   "metadata": {},
   "source": [
    "법정동코드 10자리는 2자리(시도)+3자리(시군구)+3자리(읍면동)+2자리(리) 로 구성되어 있으므로 해당의 기준에 맞게 쪼개어 분리"
   ]
  },
  {
   "cell_type": "code",
   "execution_count": 19,
   "metadata": {},
   "outputs": [
    {
     "data": {
      "text/plain": [
       "0                          [서울특별시]\n",
       "1                     [서울특별시, 종로구]\n",
       "2                [서울특별시, 종로구, 청운동]\n",
       "3                [서울특별시, 종로구, 신교동]\n",
       "4                [서울특별시, 종로구, 궁정동]\n",
       "                   ...            \n",
       "20545    [제주특별자치도, 서귀포시, 표선면, 하천리]\n",
       "20546    [제주특별자치도, 서귀포시, 표선면, 성읍리]\n",
       "20547    [제주특별자치도, 서귀포시, 표선면, 가시리]\n",
       "20548    [제주특별자치도, 서귀포시, 표선면, 세화리]\n",
       "20549    [제주특별자치도, 서귀포시, 표선면, 토산리]\n",
       "Name: 법정동명, Length: 20550, dtype: object"
      ]
     },
     "execution_count": 19,
     "metadata": {},
     "output_type": "execute_result"
    }
   ],
   "source": [
    "address_df['법정동명'].str.split(\" \")"
   ]
  },
  {
   "cell_type": "code",
   "execution_count": 26,
   "metadata": {},
   "outputs": [
    {
     "name": "stdout",
     "output_type": "stream",
     "text": [
      "['서울특별시']\n",
      "['서울특별시', '종로구']\n",
      "['서울특별시', '종로구', '청운동']\n",
      "['서울특별시', '종로구', '신교동']\n"
     ]
    }
   ],
   "source": [
    "print(address_df['법정동명'].str.split(\" \").get(0))\n",
    "print(address_df['법정동명'].str.split(\" \").get(1))\n",
    "print(address_df['법정동명'].str.split(\" \").get(2))\n",
    "print(address_df['법정동명'].str.split(\" \").get(3))"
   ]
  },
  {
   "attachments": {},
   "cell_type": "markdown",
   "metadata": {},
   "source": [
    "`address_df['법정동명'].str.split(\" \")`으로 [제주특별자치도, 서귀포시, 표선면, 하천리] 처럼 분리 후, 해당에 맞게 get으로 분리. 도시"
   ]
  },
  {
   "cell_type": "code",
   "execution_count": 27,
   "metadata": {},
   "outputs": [],
   "source": [
    "address_df['시도'] = address_df['법정동명'].str.split(\" \").str.get(1).fillna(' ') # 시도\n",
    "address_df['시군구'] = address_df['법정동명'].str.split(\" \").str.get(2).fillna(' ') # 시군구\n",
    "address_df['읍면동'] = address_df['법정동명'].str.split(\" \").str.get(3).fillna(' ') # 읍면동\n",
    "address_df['리'] = address_df['법정동명'].str.split(\" \").str.get(4).fillna(' ') # 리\n",
    "# type(address_df['법정동코드']) # pandas.core.series.Series\n",
    "# 시코드 = cityCd\n",
    "address_df['도시코드'] = address_df['법정동코드'].astype(str).str.extract(r'([0-9]{2})')\n",
    "address_df['시군구코드'] = address_df['법정동코드'].astype(str).str.extract(r'(^[0-9]{2}([0-9]{3}))').iloc[:,1:]\n",
    "address_df['읍면동코드'] = address_df['법정동코드'].astype(str).str.extract(r'(^[0-9]{5}([0-9]{3}))').iloc[:,1:]\n",
    "address_df['리코드'] = address_df['법정동코드'].astype(str).str.extract(r'(^[0-9]{8}([0-9]{2}))').iloc[:,1:]\n"
   ]
  },
  {
   "cell_type": "code",
   "execution_count": 28,
   "metadata": {},
   "outputs": [
    {
     "data": {
      "text/html": [
       "<div>\n",
       "<style scoped>\n",
       "    .dataframe tbody tr th:only-of-type {\n",
       "        vertical-align: middle;\n",
       "    }\n",
       "\n",
       "    .dataframe tbody tr th {\n",
       "        vertical-align: top;\n",
       "    }\n",
       "\n",
       "    .dataframe thead th {\n",
       "        text-align: right;\n",
       "    }\n",
       "</style>\n",
       "<table border=\"1\" class=\"dataframe\">\n",
       "  <thead>\n",
       "    <tr style=\"text-align: right;\">\n",
       "      <th></th>\n",
       "      <th>법정동코드</th>\n",
       "      <th>법정동명</th>\n",
       "      <th>시도</th>\n",
       "      <th>시군구</th>\n",
       "      <th>읍면동</th>\n",
       "      <th>리</th>\n",
       "      <th>도시코드</th>\n",
       "      <th>시군구코드</th>\n",
       "      <th>읍면동코드</th>\n",
       "      <th>리코드</th>\n",
       "    </tr>\n",
       "  </thead>\n",
       "  <tbody>\n",
       "    <tr>\n",
       "      <th>0</th>\n",
       "      <td>1100000000</td>\n",
       "      <td>서울특별시</td>\n",
       "      <td></td>\n",
       "      <td></td>\n",
       "      <td></td>\n",
       "      <td></td>\n",
       "      <td>11</td>\n",
       "      <td>000</td>\n",
       "      <td>000</td>\n",
       "      <td>00</td>\n",
       "    </tr>\n",
       "    <tr>\n",
       "      <th>1</th>\n",
       "      <td>1111000000</td>\n",
       "      <td>서울특별시 종로구</td>\n",
       "      <td>종로구</td>\n",
       "      <td></td>\n",
       "      <td></td>\n",
       "      <td></td>\n",
       "      <td>11</td>\n",
       "      <td>110</td>\n",
       "      <td>000</td>\n",
       "      <td>00</td>\n",
       "    </tr>\n",
       "    <tr>\n",
       "      <th>2</th>\n",
       "      <td>1111010100</td>\n",
       "      <td>서울특별시 종로구 청운동</td>\n",
       "      <td>종로구</td>\n",
       "      <td>청운동</td>\n",
       "      <td></td>\n",
       "      <td></td>\n",
       "      <td>11</td>\n",
       "      <td>110</td>\n",
       "      <td>101</td>\n",
       "      <td>00</td>\n",
       "    </tr>\n",
       "    <tr>\n",
       "      <th>3</th>\n",
       "      <td>1111010200</td>\n",
       "      <td>서울특별시 종로구 신교동</td>\n",
       "      <td>종로구</td>\n",
       "      <td>신교동</td>\n",
       "      <td></td>\n",
       "      <td></td>\n",
       "      <td>11</td>\n",
       "      <td>110</td>\n",
       "      <td>102</td>\n",
       "      <td>00</td>\n",
       "    </tr>\n",
       "    <tr>\n",
       "      <th>4</th>\n",
       "      <td>1111010300</td>\n",
       "      <td>서울특별시 종로구 궁정동</td>\n",
       "      <td>종로구</td>\n",
       "      <td>궁정동</td>\n",
       "      <td></td>\n",
       "      <td></td>\n",
       "      <td>11</td>\n",
       "      <td>110</td>\n",
       "      <td>103</td>\n",
       "      <td>00</td>\n",
       "    </tr>\n",
       "    <tr>\n",
       "      <th>...</th>\n",
       "      <td>...</td>\n",
       "      <td>...</td>\n",
       "      <td>...</td>\n",
       "      <td>...</td>\n",
       "      <td>...</td>\n",
       "      <td>...</td>\n",
       "      <td>...</td>\n",
       "      <td>...</td>\n",
       "      <td>...</td>\n",
       "      <td>...</td>\n",
       "    </tr>\n",
       "    <tr>\n",
       "      <th>20545</th>\n",
       "      <td>5013032022</td>\n",
       "      <td>제주특별자치도 서귀포시 표선면 하천리</td>\n",
       "      <td>서귀포시</td>\n",
       "      <td>표선면</td>\n",
       "      <td>하천리</td>\n",
       "      <td></td>\n",
       "      <td>50</td>\n",
       "      <td>130</td>\n",
       "      <td>320</td>\n",
       "      <td>22</td>\n",
       "    </tr>\n",
       "    <tr>\n",
       "      <th>20546</th>\n",
       "      <td>5013032023</td>\n",
       "      <td>제주특별자치도 서귀포시 표선면 성읍리</td>\n",
       "      <td>서귀포시</td>\n",
       "      <td>표선면</td>\n",
       "      <td>성읍리</td>\n",
       "      <td></td>\n",
       "      <td>50</td>\n",
       "      <td>130</td>\n",
       "      <td>320</td>\n",
       "      <td>23</td>\n",
       "    </tr>\n",
       "    <tr>\n",
       "      <th>20547</th>\n",
       "      <td>5013032024</td>\n",
       "      <td>제주특별자치도 서귀포시 표선면 가시리</td>\n",
       "      <td>서귀포시</td>\n",
       "      <td>표선면</td>\n",
       "      <td>가시리</td>\n",
       "      <td></td>\n",
       "      <td>50</td>\n",
       "      <td>130</td>\n",
       "      <td>320</td>\n",
       "      <td>24</td>\n",
       "    </tr>\n",
       "    <tr>\n",
       "      <th>20548</th>\n",
       "      <td>5013032025</td>\n",
       "      <td>제주특별자치도 서귀포시 표선면 세화리</td>\n",
       "      <td>서귀포시</td>\n",
       "      <td>표선면</td>\n",
       "      <td>세화리</td>\n",
       "      <td></td>\n",
       "      <td>50</td>\n",
       "      <td>130</td>\n",
       "      <td>320</td>\n",
       "      <td>25</td>\n",
       "    </tr>\n",
       "    <tr>\n",
       "      <th>20549</th>\n",
       "      <td>5013032026</td>\n",
       "      <td>제주특별자치도 서귀포시 표선면 토산리</td>\n",
       "      <td>서귀포시</td>\n",
       "      <td>표선면</td>\n",
       "      <td>토산리</td>\n",
       "      <td></td>\n",
       "      <td>50</td>\n",
       "      <td>130</td>\n",
       "      <td>320</td>\n",
       "      <td>26</td>\n",
       "    </tr>\n",
       "  </tbody>\n",
       "</table>\n",
       "<p>20550 rows × 10 columns</p>\n",
       "</div>"
      ],
      "text/plain": [
       "            법정동코드                  법정동명    시도  시군구  읍면동  리 도시코드 시군구코드 읍면동코드  \\\n",
       "0      1100000000                 서울특별시                      11   000   000   \n",
       "1      1111000000             서울특별시 종로구   종로구                11   110   000   \n",
       "2      1111010100         서울특별시 종로구 청운동   종로구  청운동           11   110   101   \n",
       "3      1111010200         서울특별시 종로구 신교동   종로구  신교동           11   110   102   \n",
       "4      1111010300         서울특별시 종로구 궁정동   종로구  궁정동           11   110   103   \n",
       "...           ...                   ...   ...  ...  ... ..  ...   ...   ...   \n",
       "20545  5013032022  제주특별자치도 서귀포시 표선면 하천리  서귀포시  표선면  하천리      50   130   320   \n",
       "20546  5013032023  제주특별자치도 서귀포시 표선면 성읍리  서귀포시  표선면  성읍리      50   130   320   \n",
       "20547  5013032024  제주특별자치도 서귀포시 표선면 가시리  서귀포시  표선면  가시리      50   130   320   \n",
       "20548  5013032025  제주특별자치도 서귀포시 표선면 세화리  서귀포시  표선면  세화리      50   130   320   \n",
       "20549  5013032026  제주특별자치도 서귀포시 표선면 토산리  서귀포시  표선면  토산리      50   130   320   \n",
       "\n",
       "      리코드  \n",
       "0      00  \n",
       "1      00  \n",
       "2      00  \n",
       "3      00  \n",
       "4      00  \n",
       "...    ..  \n",
       "20545  22  \n",
       "20546  23  \n",
       "20547  24  \n",
       "20548  25  \n",
       "20549  26  \n",
       "\n",
       "[20550 rows x 10 columns]"
      ]
     },
     "execution_count": 28,
     "metadata": {},
     "output_type": "execute_result"
    }
   ],
   "source": [
    "address_df"
   ]
  },
  {
   "attachments": {},
   "cell_type": "markdown",
   "metadata": {},
   "source": [
    "- addressNumbers.csv 로서 care/data/addressNumbers.csv가 될 수 있도록 저장하고 이후에 Django shell 에서 bulk_create 넣을 수 있도록 처리.\n",
    "- csv_create_bulk.py 에서 사용 시, addressNumbers.csv의 header이자 columns 삭제 후 진행"
   ]
  },
  {
   "cell_type": "code",
   "execution_count": 31,
   "metadata": {},
   "outputs": [],
   "source": [
    "# 저장하기\n",
    "address_df.to_csv(base_bath+'addressNumbers.csv',encoding='utf-8')"
   ]
  }
 ],
 "metadata": {
  "kernelspec": {
   "display_name": "silverScore",
   "language": "python",
   "name": "python3"
  },
  "language_info": {
   "codemirror_mode": {
    "name": "ipython",
    "version": 3
   },
   "file_extension": ".py",
   "mimetype": "text/x-python",
   "name": "python",
   "nbconvert_exporter": "python",
   "pygments_lexer": "ipython3",
   "version": "3.11.1"
  },
  "orig_nbformat": 4,
  "vscode": {
   "interpreter": {
    "hash": "8995d2ee9696bb7ac1bcbf74bb26fa9fa3c561be50a3c968c058e04af1f03921"
   }
  }
 },
 "nbformat": 4,
 "nbformat_minor": 2
}
